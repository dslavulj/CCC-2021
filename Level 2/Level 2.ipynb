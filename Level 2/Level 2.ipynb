{
 "cells": [
  {
   "cell_type": "code",
   "execution_count": 9,
   "metadata": {},
   "outputs": [],
   "source": [
    "import numpy as np\n",
    "import pandas as pd\n",
    "from tensorflow import keras\n",
    "from tensorflow.keras import layers\n",
    "import tensorflow as tf"
   ]
  },
  {
   "cell_type": "code",
   "execution_count": 10,
   "metadata": {},
   "outputs": [
    {
     "name": "stdout",
     "output_type": "stream",
     "text": [
      "(11200, 2352)\n"
     ]
    }
   ],
   "source": [
    "Data  = pd.read_csv(\"level_2_Input/train.csv\", skiprows=1, header=None)\n",
    "\n",
    "Images = Data[:Data.shape[0]//2]\n",
    "Images = np.array(Images, dtype='float')\n",
    "\n",
    "\n",
    "Labels=Data[0][(Data.shape[0]//2):Data.shape[0]]\n",
    "Labels = np.array(Labels, dtype='int')\n",
    "\n",
    "print(Data.shape)"
   ]
  },
  {
   "cell_type": "code",
   "execution_count": 11,
   "metadata": {},
   "outputs": [
    {
     "name": "stdout",
     "output_type": "stream",
     "text": [
      "(3000, 2352)\n"
     ]
    }
   ],
   "source": [
    "Data_Test  = pd.read_csv(\"level_2_Input/level_2_2.csv\", skiprows=1, header=None)\n",
    "\n",
    "Data_Test = Data_Test[:Data_Test.shape[0]]\n",
    "Data_Test = np.array(Data_Test, dtype='float')\n",
    "\n",
    "print(Data_Test.shape)"
   ]
  },
  {
   "cell_type": "code",
   "execution_count": 12,
   "metadata": {},
   "outputs": [
    {
     "name": "stdout",
     "output_type": "stream",
     "text": [
      "x_train shape: (5600, 28, 84, 1)\n",
      "5600 train samples\n",
      "3000 test samples\n",
      "(5600, 2)\n"
     ]
    }
   ],
   "source": [
    "num_classes = 2\n",
    "input_shape = (28,84, 1)\n",
    "\n",
    "x_train = Images.copy()\n",
    "y_train = np.array(Labels)\n",
    "x_test = Data_Test.copy()\n",
    "\n",
    "x_train = x_train.astype(\"float32\") / 255\n",
    "x_test = x_test.astype(\"float32\") / 255\n",
    "x_train = tf.reshape(x_train,[-1,28,84])\n",
    "x_test = tf.reshape(x_test,[-1,28,84])\n",
    "x_train = np.expand_dims(x_train, -1)\n",
    "x_test = np.expand_dims(x_test, -1)\n",
    "\n",
    "y_train = keras.utils.to_categorical(y_train, num_classes)\n",
    "\n",
    "print(\"x_train shape:\", x_train.shape)\n",
    "print(x_train.shape[0], \"train samples\")\n",
    "print(x_test.shape[0], \"test samples\")\n",
    "\n",
    "print(y_train.shape)"
   ]
  },
  {
   "cell_type": "code",
   "execution_count": 13,
   "outputs": [
    {
     "data": {
      "text/plain": "<matplotlib.image.AxesImage at 0x1b99c085b50>"
     },
     "execution_count": 13,
     "metadata": {},
     "output_type": "execute_result"
    },
    {
     "data": {
      "text/plain": "<Figure size 432x288 with 1 Axes>",
      "image/png": "[encoded data removed]"
     },
     "metadata": {
      "needs_background": "light"
     },
     "output_type": "display_data"
    }
   ],
   "source": [
    "import matplotlib.pyplot as plt\n",
    "\n",
    "plt.imshow(x_train[3000])"
   ],
   "metadata": {
    "collapsed": false,
    "pycharm": {
     "name": "#%%\n"
    }
   }
  },
  {
   "cell_type": "code",
   "execution_count": 14,
   "metadata": {},
   "outputs": [
    {
     "name": "stdout",
     "output_type": "stream",
     "text": [
      "Model: \"functional_3\"\n",
      "__________________________________________________________________________________________________\n",
      "Layer (type)                    Output Shape         Param #     Connected to                     \n",
      "==================================================================================================\n",
      "input_2 (InputLayer)            [(None, 28, 84, 1)]  0                                            \n",
      "__________________________________________________________________________________________________\n",
      "conv2d_13 (Conv2D)              (None, 28, 84, 8)    80          input_2[0][0]                    \n",
      "__________________________________________________________________________________________________\n",
      "max_pooling2d_4 (MaxPooling2D)  (None, 14, 42, 8)    0           conv2d_13[0][0]                  \n",
      "__________________________________________________________________________________________________\n",
      "conv2d_14 (Conv2D)              (None, 14, 42, 16)   1168        max_pooling2d_4[0][0]            \n",
      "__________________________________________________________________________________________________\n",
      "conv2d_15 (Conv2D)              (None, 14, 42, 16)   2320        conv2d_14[0][0]                  \n",
      "__________________________________________________________________________________________________\n",
      "conv2d_16 (Conv2D)              (None, 14, 42, 16)   144         max_pooling2d_4[0][0]            \n",
      "__________________________________________________________________________________________________\n",
      "tf_op_layer_AddV2_4 (TensorFlow [(None, 14, 42, 16)] 0           conv2d_15[0][0]                  \n",
      "                                                                 conv2d_16[0][0]                  \n",
      "__________________________________________________________________________________________________\n",
      "max_pooling2d_5 (MaxPooling2D)  (None, 7, 21, 16)    0           tf_op_layer_AddV2_4[0][0]        \n",
      "__________________________________________________________________________________________________\n",
      "conv2d_17 (Conv2D)              (None, 7, 21, 32)    4640        max_pooling2d_5[0][0]            \n",
      "__________________________________________________________________________________________________\n",
      "conv2d_18 (Conv2D)              (None, 7, 21, 32)    9248        conv2d_17[0][0]                  \n",
      "__________________________________________________________________________________________________\n",
      "conv2d_19 (Conv2D)              (None, 7, 21, 32)    544         max_pooling2d_5[0][0]            \n",
      "__________________________________________________________________________________________________\n",
      "tf_op_layer_AddV2_5 (TensorFlow [(None, 7, 21, 32)]  0           conv2d_18[0][0]                  \n",
      "                                                                 conv2d_19[0][0]                  \n",
      "__________________________________________________________________________________________________\n",
      "max_pooling2d_6 (MaxPooling2D)  (None, 3, 10, 32)    0           tf_op_layer_AddV2_5[0][0]        \n",
      "__________________________________________________________________________________________________\n",
      "conv2d_20 (Conv2D)              (None, 3, 10, 32)    9248        max_pooling2d_6[0][0]            \n",
      "__________________________________________________________________________________________________\n",
      "conv2d_21 (Conv2D)              (None, 3, 10, 32)    9248        conv2d_20[0][0]                  \n",
      "__________________________________________________________________________________________________\n",
      "conv2d_22 (Conv2D)              (None, 3, 10, 32)    1056        max_pooling2d_6[0][0]            \n",
      "__________________________________________________________________________________________________\n",
      "tf_op_layer_AddV2_6 (TensorFlow [(None, 3, 10, 32)]  0           conv2d_21[0][0]                  \n",
      "                                                                 conv2d_22[0][0]                  \n",
      "__________________________________________________________________________________________________\n",
      "max_pooling2d_7 (MaxPooling2D)  (None, 3, 5, 32)     0           tf_op_layer_AddV2_6[0][0]        \n",
      "__________________________________________________________________________________________________\n",
      "conv2d_23 (Conv2D)              (None, 3, 5, 64)     18496       max_pooling2d_7[0][0]            \n",
      "__________________________________________________________________________________________________\n",
      "conv2d_24 (Conv2D)              (None, 3, 5, 64)     36928       conv2d_23[0][0]                  \n",
      "__________________________________________________________________________________________________\n",
      "conv2d_25 (Conv2D)              (None, 3, 5, 64)     2112        max_pooling2d_7[0][0]            \n",
      "__________________________________________________________________________________________________\n",
      "tf_op_layer_AddV2_7 (TensorFlow [(None, 3, 5, 64)]   0           conv2d_24[0][0]                  \n",
      "                                                                 conv2d_25[0][0]                  \n",
      "__________________________________________________________________________________________________\n",
      "flatten_1 (Flatten)             (None, 960)          0           tf_op_layer_AddV2_7[0][0]        \n",
      "__________________________________________________________________________________________________\n",
      "dense_2 (Dense)                 (None, 64)           61504       flatten_1[0][0]                  \n",
      "__________________________________________________________________________________________________\n",
      "dropout_1 (Dropout)             (None, 64)           0           dense_2[0][0]                    \n",
      "__________________________________________________________________________________________________\n",
      "dense_3 (Dense)                 (None, 1)            65          dropout_1[0][0]                  \n",
      "==================================================================================================\n",
      "Total params: 156,801\n",
      "Trainable params: 156,801\n",
      "Non-trainable params: 0\n",
      "__________________________________________________________________________________________________\n"
     ]
    }
   ],
   "source": [
    "inp = keras.Input(shape=input_shape)\n",
    "\n",
    "\n",
    "x = layers.Conv2D(8, kernel_size=(3, 3), activation=\"relu\", padding=\"same\")(inp)\n",
    "xc = layers.MaxPooling2D(pool_size=(2, 2))(x)\n",
    "x = layers.Conv2D(16, kernel_size=(3, 3), activation=\"relu\", padding=\"same\")(xc)\n",
    "x = layers.Conv2D(16, kernel_size=(3, 3), activation=\"relu\", padding=\"same\")(x)\n",
    "x = x+layers.Conv2D(16, kernel_size=(1, 1), padding=\"same\")(xc)\n",
    "xc = layers.MaxPooling2D(pool_size=(2, 2))(x)\n",
    "x = layers.Conv2D(32, kernel_size=(3, 3), activation=\"relu\", padding=\"same\")(xc)\n",
    "x = layers.Conv2D(32, kernel_size=(3, 3), activation=\"relu\", padding=\"same\")(x)\n",
    "x = x+layers.Conv2D(32, kernel_size=(1, 1), padding=\"same\")(xc)\n",
    "xc = layers.MaxPooling2D(pool_size=(2, 2))(x)\n",
    "x = layers.Conv2D(32, kernel_size=(3, 3), activation=\"relu\", padding=\"same\")(xc)\n",
    "x = layers.Conv2D(32, kernel_size=(3, 3), activation=\"relu\", padding=\"same\")(x)\n",
    "x = x+layers.Conv2D(32, kernel_size=(1, 1), padding=\"same\")(xc)\n",
    "xc = layers.MaxPooling2D(pool_size=(1, 2))(x)\n",
    "x = layers.Conv2D(64, kernel_size=(3, 3), activation=\"relu\", padding=\"same\")(xc)\n",
    "x = layers.Conv2D(64, kernel_size=(3, 3), activation=\"relu\", padding=\"same\")(x)\n",
    "x = x+layers.Conv2D(64, kernel_size=(1, 1), padding=\"same\")(xc)\n",
    "x = layers.Flatten()(x)\n",
    "\n",
    "x = layers.Dense(64, activation=\"relu\")(x)\n",
    "x = layers.Dropout(0.75)(x)\n",
    "\n",
    "out = layers.Dense(1, activation=\"sigmoid\")(x)\n",
    "\n",
    "model = keras.Model(inp, out)\n",
    "\n",
    "model.summary()"
   ]
  },
  {
   "cell_type": "markdown",
   "source": [],
   "metadata": {
    "collapsed": false
   }
  },
  {
   "cell_type": "code",
   "execution_count": 16,
   "metadata": {},
   "outputs": [
    {
     "name": "stdout",
     "output_type": "stream",
     "text": [
      "Epoch 1/30\n",
      "139/140 [============================>.] - ETA: 0s - loss: 0.2101 - accuracy: 0.9029\n",
      "Epoch 00001: val_accuracy improved from -inf to 0.81161, saving model to best.h5\n",
      "140/140 [==============================] - 5s 39ms/step - loss: 0.2106 - accuracy: 0.9025 - val_loss: 0.4261 - val_accuracy: 0.8116\n",
      "Epoch 2/30\n",
      "139/140 [============================>.] - ETA: 0s - loss: 0.1926 - accuracy: 0.9218\n",
      "Epoch 00002: val_accuracy improved from 0.81161 to 0.86964, saving model to best.h5\n",
      "140/140 [==============================] - 5s 38ms/step - loss: 0.1931 - accuracy: 0.9217 - val_loss: 0.4096 - val_accuracy: 0.8696\n",
      "Epoch 3/30\n",
      "139/140 [============================>.] - ETA: 0s - loss: 0.1387 - accuracy: 0.9510\n",
      "Epoch 00003: val_accuracy did not improve from 0.86964\n",
      "140/140 [==============================] - 5s 36ms/step - loss: 0.1383 - accuracy: 0.9511 - val_loss: 0.4904 - val_accuracy: 0.8420\n",
      "Epoch 4/30\n",
      "139/140 [============================>.] - ETA: 0s - loss: 0.1063 - accuracy: 0.9604\n",
      "Epoch 00004: val_accuracy did not improve from 0.86964\n",
      "140/140 [==============================] - 5s 35ms/step - loss: 0.1060 - accuracy: 0.9605 - val_loss: 0.6566 - val_accuracy: 0.7839\n",
      "Epoch 5/30\n",
      "139/140 [============================>.] - ETA: 0s - loss: 0.0842 - accuracy: 0.9735\n",
      "Epoch 00005: val_accuracy improved from 0.86964 to 0.87321, saving model to best.h5\n",
      "140/140 [==============================] - 5s 36ms/step - loss: 0.0847 - accuracy: 0.9734 - val_loss: 0.6203 - val_accuracy: 0.8732\n",
      "Epoch 6/30\n",
      "139/140 [============================>.] - ETA: 0s - loss: 0.0739 - accuracy: 0.9748\n",
      "Epoch 00006: val_accuracy improved from 0.87321 to 0.87768, saving model to best.h5\n",
      "140/140 [==============================] - 5s 36ms/step - loss: 0.0737 - accuracy: 0.9748 - val_loss: 0.3879 - val_accuracy: 0.8777\n",
      "Epoch 7/30\n",
      "139/140 [============================>.] - ETA: 0s - loss: 0.0800 - accuracy: 0.9755\n",
      "Epoch 00007: val_accuracy improved from 0.87768 to 0.90714, saving model to best.h5\n",
      "140/140 [==============================] - 5s 36ms/step - loss: 0.0797 - accuracy: 0.9757 - val_loss: 0.2937 - val_accuracy: 0.9071\n",
      "Epoch 8/30\n",
      "139/140 [============================>.] - ETA: 0s - loss: 0.0636 - accuracy: 0.9840\n",
      "Epoch 00008: val_accuracy did not improve from 0.90714\n",
      "140/140 [==============================] - 5s 36ms/step - loss: 0.0632 - accuracy: 0.9842 - val_loss: 0.6283 - val_accuracy: 0.8473\n",
      "Epoch 9/30\n",
      "139/140 [============================>.] - ETA: 0s - loss: 0.0437 - accuracy: 0.9822\n",
      "Epoch 00009: val_accuracy did not improve from 0.90714\n",
      "140/140 [==============================] - 5s 36ms/step - loss: 0.0436 - accuracy: 0.9821 - val_loss: 2.0657 - val_accuracy: 0.8080\n",
      "Epoch 10/30\n",
      "139/140 [============================>.] - ETA: 0s - loss: 0.0548 - accuracy: 0.9829\n",
      "Epoch 00010: val_accuracy did not improve from 0.90714\n",
      "140/140 [==============================] - 5s 35ms/step - loss: 0.0546 - accuracy: 0.9830 - val_loss: 0.9923 - val_accuracy: 0.8786\n",
      "Epoch 11/30\n",
      "139/140 [============================>.] - ETA: 0s - loss: 0.0110 - accuracy: 0.9971\n",
      "Epoch 00011: val_accuracy did not improve from 0.90714\n",
      "140/140 [==============================] - 5s 39ms/step - loss: 0.0111 - accuracy: 0.9971 - val_loss: 1.1426 - val_accuracy: 0.8661\n",
      "Epoch 12/30\n",
      "139/140 [============================>.] - ETA: 0s - loss: 0.0056 - accuracy: 0.9982\n",
      "Epoch 00012: val_accuracy did not improve from 0.90714\n",
      "140/140 [==============================] - 5s 36ms/step - loss: 0.0056 - accuracy: 0.9982 - val_loss: 1.2420 - val_accuracy: 0.8661\n",
      "Epoch 13/30\n",
      "139/140 [============================>.] - ETA: 0s - loss: 0.0037 - accuracy: 0.9996\n",
      "Epoch 00013: val_accuracy did not improve from 0.90714\n",
      "140/140 [==============================] - 5s 35ms/step - loss: 0.0036 - accuracy: 0.9996 - val_loss: 1.2934 - val_accuracy: 0.8696\n",
      "Epoch 14/30\n",
      "139/140 [============================>.] - ETA: 0s - loss: 0.0033 - accuracy: 0.9996\n",
      "Epoch 00014: val_accuracy did not improve from 0.90714\n",
      "140/140 [==============================] - 5s 38ms/step - loss: 0.0033 - accuracy: 0.9996 - val_loss: 1.3025 - val_accuracy: 0.8705\n",
      "Epoch 15/30\n",
      "140/140 [==============================] - ETA: 0s - loss: 0.0038 - accuracy: 0.9996\n",
      "Epoch 00015: val_accuracy did not improve from 0.90714\n",
      "140/140 [==============================] - 5s 37ms/step - loss: 0.0038 - accuracy: 0.9996 - val_loss: 1.3167 - val_accuracy: 0.8705\n",
      "Epoch 16/30\n",
      "139/140 [============================>.] - ETA: 0s - loss: 0.0022 - accuracy: 1.0000\n",
      "Epoch 00016: val_accuracy did not improve from 0.90714\n",
      "140/140 [==============================] - 5s 37ms/step - loss: 0.0022 - accuracy: 1.0000 - val_loss: 1.3257 - val_accuracy: 0.8705\n",
      "Epoch 17/30\n",
      "140/140 [==============================] - ETA: 0s - loss: 0.0024 - accuracy: 1.0000\n",
      "Epoch 00017: val_accuracy did not improve from 0.90714\n",
      "140/140 [==============================] - 5s 38ms/step - loss: 0.0024 - accuracy: 1.0000 - val_loss: 1.3271 - val_accuracy: 0.8705\n",
      "Epoch 18/30\n",
      "140/140 [==============================] - ETA: 0s - loss: 0.0031 - accuracy: 0.9998\n",
      "Epoch 00018: val_accuracy did not improve from 0.90714\n",
      "140/140 [==============================] - 7s 47ms/step - loss: 0.0031 - accuracy: 0.9998 - val_loss: 1.3284 - val_accuracy: 0.8705\n",
      "Epoch 19/30\n",
      "140/140 [==============================] - ETA: 0s - loss: 0.0028 - accuracy: 0.9998\n",
      "Epoch 00019: val_accuracy did not improve from 0.90714\n",
      "140/140 [==============================] - 6s 43ms/step - loss: 0.0028 - accuracy: 0.9998 - val_loss: 1.3298 - val_accuracy: 0.8705\n",
      "Epoch 20/30\n",
      "139/140 [============================>.] - ETA: 0s - loss: 0.0032 - accuracy: 0.9998\n",
      "Epoch 00020: val_accuracy did not improve from 0.90714\n",
      "140/140 [==============================] - 5s 37ms/step - loss: 0.0032 - accuracy: 0.9998 - val_loss: 1.3300 - val_accuracy: 0.8705\n",
      "Epoch 21/30\n",
      "139/140 [============================>.] - ETA: 0s - loss: 0.0028 - accuracy: 1.0000\n",
      "Epoch 00021: val_accuracy did not improve from 0.90714\n",
      "140/140 [==============================] - 5s 36ms/step - loss: 0.0027 - accuracy: 1.0000 - val_loss: 1.3302 - val_accuracy: 0.8705\n",
      "Epoch 22/30\n",
      "139/140 [============================>.] - ETA: 0s - loss: 0.0030 - accuracy: 1.0000\n",
      "Epoch 00022: val_accuracy did not improve from 0.90714\n",
      "140/140 [==============================] - 5s 36ms/step - loss: 0.0030 - accuracy: 1.0000 - val_loss: 1.3303 - val_accuracy: 0.8705\n",
      "Epoch 23/30\n",
      "139/140 [============================>.] - ETA: 0s - loss: 0.0028 - accuracy: 0.9998\n",
      "Epoch 00023: val_accuracy did not improve from 0.90714\n",
      "140/140 [==============================] - 5s 36ms/step - loss: 0.0028 - accuracy: 0.9998 - val_loss: 1.3303 - val_accuracy: 0.8705\n",
      "Epoch 24/30\n",
      "139/140 [============================>.] - ETA: 0s - loss: 0.0032 - accuracy: 1.0000\n",
      "Epoch 00024: val_accuracy did not improve from 0.90714\n",
      "140/140 [==============================] - 5s 37ms/step - loss: 0.0032 - accuracy: 1.0000 - val_loss: 1.3303 - val_accuracy: 0.8705\n",
      "Epoch 25/30\n",
      "139/140 [============================>.] - ETA: 0s - loss: 0.0021 - accuracy: 1.0000\n",
      "Epoch 00025: val_accuracy did not improve from 0.90714\n",
      "140/140 [==============================] - 5s 37ms/step - loss: 0.0021 - accuracy: 1.0000 - val_loss: 1.3304 - val_accuracy: 0.8705\n",
      "Epoch 26/30\n",
      "139/140 [============================>.] - ETA: 0s - loss: 0.0024 - accuracy: 0.9996\n",
      "Epoch 00026: val_accuracy did not improve from 0.90714\n",
      "140/140 [==============================] - 5s 36ms/step - loss: 0.0024 - accuracy: 0.9996 - val_loss: 1.3304 - val_accuracy: 0.8705\n",
      "Epoch 27/30\n",
      "139/140 [============================>.] - ETA: 0s - loss: 0.0031 - accuracy: 0.9998\n",
      "Epoch 00027: val_accuracy did not improve from 0.90714\n",
      "140/140 [==============================] - 5s 37ms/step - loss: 0.0031 - accuracy: 0.9998 - val_loss: 1.3304 - val_accuracy: 0.8705\n",
      "Epoch 28/30\n",
      "139/140 [============================>.] - ETA: 0s - loss: 0.0034 - accuracy: 0.9993\n",
      "Epoch 00028: val_accuracy did not improve from 0.90714\n",
      "140/140 [==============================] - 5s 36ms/step - loss: 0.0034 - accuracy: 0.9993 - val_loss: 1.3304 - val_accuracy: 0.8705\n",
      "Epoch 29/30\n",
      "140/140 [==============================] - ETA: 0s - loss: 0.0023 - accuracy: 1.0000\n",
      "Epoch 00029: val_accuracy did not improve from 0.90714\n",
      "140/140 [==============================] - 5s 35ms/step - loss: 0.0023 - accuracy: 1.0000 - val_loss: 1.3304 - val_accuracy: 0.8705\n",
      "Epoch 30/30\n",
      "139/140 [============================>.] - ETA: 0s - loss: 0.0032 - accuracy: 1.0000\n",
      "Epoch 00030: val_accuracy did not improve from 0.90714\n",
      "140/140 [==============================] - 5s 37ms/step - loss: 0.0031 - accuracy: 1.0000 - val_loss: 1.3304 - val_accuracy: 0.8705\n"
     ]
    },
    {
     "data": {
      "text/plain": "<tensorflow.python.keras.callbacks.History at 0x1b99c0abc70>"
     },
     "execution_count": 16,
     "metadata": {},
     "output_type": "execute_result"
    }
   ],
   "source": [
    "batch_size = 32\n",
    "\n",
    "epochs = 30\n",
    "Check = keras.callbacks.ModelCheckpoint(\n",
    "    \"best.h5\", monitor='val_accuracy', verbose=2, save_best_only=True,\n",
    "    save_weights_only=True, mode='max', save_freq='epoch',\n",
    ")\n",
    "\n",
    "Plateau = keras.callbacks.ReduceLROnPlateau(monitor=\"val_accuracy\", factor=0.1, patience=3)\n",
    "\n",
    "\n",
    "model.compile(loss=\"binary_crossentropy\", optimizer=keras.optimizers.Adam(learning_rate=0.003), metrics=[\"accuracy\"])\n",
    "\n",
    "model.fit(x_train, tf.math.argmax(y_train, -1), batch_size=batch_size, epochs=epochs, validation_split=0.2, callbacks=[Check, Plateau])"
   ]
  },
  {
   "cell_type": "code",
   "execution_count": 17,
   "metadata": {
    "pycharm": {
     "name": "#%%\n"
    }
   },
   "outputs": [],
   "source": [
    "model.load_weights(\"best.h5\")\n",
    "\n",
    "y_hat = model.predict(x_test)\n",
    "rounded = tf.cast(tf.math.round(y_hat), tf.int32)\n",
    "np.savetxt(\"level_2_output/level_2_2_Result.csv\", rounded, fmt='%i', delimiter=\"\\n\", )\n"
   ]
  }
 ],
 "metadata": {
  "interpreter": {
   "hash": "aee8b7b246df8f9039afb4144a1f6fd8d2ca17a180786b69acc140d282b71a49"
  },
  "kernelspec": {
   "display_name": "Python 3.9.6 64-bit",
   "language": "python",
   "name": "python3"
  },
  "language_info": {
   "codemirror_mode": {
    "name": "ipython",
    "version": 3
   },
   "file_extension": ".py",
   "mimetype": "text/x-python",
   "name": "python",
   "nbconvert_exporter": "python",
   "pygments_lexer": "ipython3",
   "version": "3.9.7"
  },
  "orig_nbformat": 4
 },
 "nbformat": 4,
 "nbformat_minor": 2
}