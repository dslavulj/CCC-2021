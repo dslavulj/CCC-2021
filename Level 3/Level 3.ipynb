{
 "cells": [
  {
   "cell_type": "code",
   "execution_count": 1,
   "metadata": {},
   "outputs": [],
   "source": [
    "import pandas as pd\n",
    "import numpy as np\n",
    "from tensorflow import keras\n",
    "from tensorflow.keras import layers\n",
    "import tensorflow as tf"
   ]
  },
  {
   "cell_type": "code",
   "execution_count": 2,
   "metadata": {},
   "outputs": [
    {
     "name": "stdout",
     "output_type": "stream",
     "text": [
      "(10000, 5488)\n",
      "(10000,)\n"
     ]
    }
   ],
   "source": [
    "Data  = pd.read_csv(\"level_3_input/train.csv\", skiprows=1, header=None)\n",
    "\n",
    "Images = Data[:Data.shape[0]//2]\n",
    "Images = np.array(Images, dtype='float')\n",
    "\n",
    "\n",
    "Labels=Data[0][(Data.shape[0]//2):Data.shape[0]]\n",
    "Labels = np.array(Labels, dtype='float')\n",
    "\n",
    "print(Images.shape)\n",
    "print(Labels.shape)"
   ]
  },
  {
   "cell_type": "code",
   "execution_count": 3,
   "metadata": {},
   "outputs": [
    {
     "name": "stdout",
     "output_type": "stream",
     "text": [
      "(3000, 5488)\n"
     ]
    }
   ],
   "source": [
    "Data_Test  = pd.read_csv(\"level_3_input/level_3_1.csv\", skiprows=1, header=None)\n",
    "\n",
    "Data_Test = Data_Test[:Data_Test.shape[0]]\n",
    "Data_Test = np.array(Data_Test, dtype='float')\n",
    "\n",
    "print(Data_Test.shape)"
   ]
  },
  {
   "cell_type": "code",
   "execution_count": 15,
   "metadata": {},
   "outputs": [],
   "source": [
    "x_train = Images.copy()\n",
    "x_test = Data_Test.copy()\n",
    "\n",
    "y_train = np.array(Labels)"
   ]
  },
  {
   "cell_type": "code",
   "execution_count": 16,
   "metadata": {},
   "outputs": [
    {
     "name": "stdout",
     "output_type": "stream",
     "text": [
      "x_train shape: (10000, 28, 196, 1)\n",
      "10000 train samples\n",
      "3000 test samples\n"
     ]
    }
   ],
   "source": [
    "input_shape = (28,196, 1)\n",
    "\n",
    "x_train = x_train.astype(\"float32\") / 255\n",
    "x_test = x_test.astype(\"float32\") / 255\n",
    "\n",
    "x_train = tf.reshape(x_train,[-1,28,196,1])\n",
    "x_test = tf.reshape(x_test,[-1,28,196,1])\n",
    "\n",
    "\n",
    "print(\"x_train shape:\", x_train.shape)\n",
    "print(x_train.shape[0], \"train samples\")\n",
    "print(x_test.shape[0], \"test samples\")\n"
   ]
  },
  {
   "cell_type": "markdown",
   "source": [],
   "metadata": {
    "collapsed": false
   }
  },
  {
   "cell_type": "code",
   "execution_count": 8,
   "outputs": [
    {
     "data": {
      "text/plain": "array([[0., 0., 0., ..., 0., 0., 0.],\n       [0., 0., 0., ..., 0., 0., 0.],\n       [0., 0., 0., ..., 0., 0., 0.],\n       ...,\n       [0., 0., 0., ..., 0., 0., 0.],\n       [0., 0., 0., ..., 0., 0., 0.],\n       [0., 0., 0., ..., 0., 0., 0.]])"
     },
     "execution_count": 8,
     "metadata": {},
     "output_type": "execute_result"
    }
   ],
   "source": [
    "Images\n"
   ],
   "metadata": {
    "collapsed": false,
    "pycharm": {
     "name": "#%%\n"
    }
   }
  },
  {
   "cell_type": "code",
   "execution_count": 6,
   "outputs": [
    {
     "data": {
      "text/plain": "<matplotlib.image.AxesImage at 0x1eb032462e0>"
     },
     "execution_count": 6,
     "metadata": {},
     "output_type": "execute_result"
    },
    {
     "data": {
      "text/plain": "<Figure size 432x288 with 1 Axes>",
      "image/png": "[encoded data removed]"
     },
     "metadata": {
      "needs_background": "light"
     },
     "output_type": "display_data"
    }
   ],
   "source": [
    "import matplotlib.pyplot as plt\n",
    "\n",
    "plt.imshow(x_train[3000])"
   ],
   "metadata": {
    "collapsed": false,
    "pycharm": {
     "name": "#%%\n"
    }
   }
  },
  {
   "cell_type": "code",
   "execution_count": 9,
   "metadata": {},
   "outputs": [
    {
     "name": "stdout",
     "output_type": "stream",
     "text": [
      "Model: \"sequential\"\n",
      "_________________________________________________________________\n",
      "Layer (type)                 Output Shape              Param #   \n",
      "=================================================================\n",
      "conv2d (Conv2D)              (None, 28, 196, 16)       160       \n",
      "_________________________________________________________________\n",
      "max_pooling2d (MaxPooling2D) (None, 14, 98, 16)        0         \n",
      "_________________________________________________________________\n",
      "dropout (Dropout)            (None, 14, 98, 16)        0         \n",
      "_________________________________________________________________\n",
      "conv2d_1 (Conv2D)            (None, 14, 98, 32)        4640      \n",
      "_________________________________________________________________\n",
      "max_pooling2d_1 (MaxPooling2 (None, 7, 49, 32)         0         \n",
      "_________________________________________________________________\n",
      "dropout_1 (Dropout)          (None, 7, 49, 32)         0         \n",
      "_________________________________________________________________\n",
      "conv2d_2 (Conv2D)            (None, 7, 49, 64)         18496     \n",
      "_________________________________________________________________\n",
      "max_pooling2d_2 (MaxPooling2 (None, 3, 24, 64)         0         \n",
      "_________________________________________________________________\n",
      "dropout_2 (Dropout)          (None, 3, 24, 64)         0         \n",
      "_________________________________________________________________\n",
      "conv2d_3 (Conv2D)            (None, 3, 24, 128)        123008    \n",
      "_________________________________________________________________\n",
      "max_pooling2d_3 (MaxPooling2 (None, 3, 6, 128)         0         \n",
      "_________________________________________________________________\n",
      "dropout_3 (Dropout)          (None, 3, 6, 128)         0         \n",
      "_________________________________________________________________\n",
      "conv2d_4 (Conv2D)            (None, 3, 6, 128)         147584    \n",
      "_________________________________________________________________\n",
      "dropout_4 (Dropout)          (None, 3, 6, 128)         0         \n",
      "_________________________________________________________________\n",
      "flatten (Flatten)            (None, 2304)              0         \n",
      "_________________________________________________________________\n",
      "dense (Dense)                (None, 64)                147520    \n",
      "_________________________________________________________________\n",
      "dropout_5 (Dropout)          (None, 64)                0         \n",
      "_________________________________________________________________\n",
      "dense_1 (Dense)              (None, 1)                 65        \n",
      "=================================================================\n",
      "Total params: 441,473\n",
      "Trainable params: 441,473\n",
      "Non-trainable params: 0\n",
      "_________________________________________________________________\n"
     ]
    }
   ],
   "source": [
    "model = keras.Sequential(\n",
    "    [\n",
    "        keras.Input(shape=input_shape),\n",
    "        layers.Conv2D(16, kernel_size=(3, 3), activation=\"relu\", padding=\"same\"),\n",
    "        layers.MaxPooling2D(pool_size=(2, 2)),\n",
    "        layers.Dropout(0.15),\n",
    "        layers.Conv2D(32, kernel_size=(3, 3), activation=\"relu\", padding=\"same\"),\n",
    "        layers.MaxPooling2D(pool_size=(2, 2)),\n",
    "        layers.Dropout(0.15),\n",
    "        layers.Conv2D(64, kernel_size=(3, 3), activation=\"relu\", padding=\"same\"),\n",
    "        layers.MaxPooling2D(pool_size=(2, 2)),\n",
    "        layers.Dropout(0.15),\n",
    "        layers.Conv2D(128, kernel_size=(3, 5), activation=\"relu\", padding=\"same\"),\n",
    "        layers.MaxPooling2D(pool_size=(1, 4)),\n",
    "        layers.Dropout(0.15),\n",
    "        layers.Conv2D(128, kernel_size=(3, 3), activation=\"relu\", padding=\"same\"),\n",
    "        layers.Dropout(0.15),\n",
    "        layers.Flatten(),\n",
    "        layers.Dense(64, activation=\"relu\"),\n",
    "\n",
    "        layers.Dropout(0.5),\n",
    "        layers.Dense(1, activation=\"sigmoid\"),\n",
    "    ]\n",
    ")\n",
    "\n",
    "model.summary()"
   ]
  },
  {
   "cell_type": "code",
   "execution_count": null,
   "outputs": [],
   "source": [
    "inp = keras.Input(shape=input_shape)\n",
    "\n",
    "x = layers.Conv2D(8, kernel_size=(3, 3), activation=\"relu\", padding=\"same\")(inp)\n",
    "xc = layers.MaxPooling2D(pool_size=(2, 2))(x)\n",
    "x = layers.Conv2D(16, kernel_size=(3, 3), activation=\"relu\", padding=\"same\")(xc)\n",
    "x = layers.Conv2D(16, kernel_size=(3, 3), activation=\"relu\", padding=\"same\")(x)\n",
    "x = x+layers.Conv2D(16, kernel_size=(1, 1), padding=\"same\")(xc)\n",
    "xc = layers.MaxPooling2D(pool_size=(2, 2))(x)\n",
    "x = layers.Conv2D(32, kernel_size=(3, 3), activation=\"relu\", padding=\"same\")(xc)\n",
    "x = layers.Conv2D(32, kernel_size=(3, 3), activation=\"relu\", padding=\"same\")(x)\n",
    "x = x+layers.Conv2D(32, kernel_size=(1, 1), padding=\"same\")(xc)\n",
    "xc = layers.MaxPooling2D(pool_size=(2, 2))(x)\n",
    "x = layers.Conv2D(32, kernel_size=(3, 3), activation=\"relu\", padding=\"same\")(xc)\n",
    "x = layers.Conv2D(32, kernel_size=(3, 3), activation=\"relu\", padding=\"same\")(x)\n",
    "x = x+layers.Conv2D(32, kernel_size=(1, 1), padding=\"same\")(xc)\n",
    "xc = layers.MaxPooling2D(pool_size=(1, 2))(x)\n",
    "x = layers.Conv2D(64, kernel_size=(3, 3), activation=\"relu\", padding=\"same\")(xc)\n",
    "x = layers.Conv2D(64, kernel_size=(3, 3), activation=\"relu\", padding=\"same\")(x)\n",
    "x = x+layers.Conv2D(64, kernel_size=(1, 1), padding=\"same\")(xc)\n",
    "x = layers.Flatten()(x)\n",
    "\n",
    "x = layers.Dense(64, activation=\"relu\")(x)\n",
    "x = layers.Dropout(0.75)(x)\n",
    "\n",
    "out = layers.Dense(1, activation=\"softmax\")(x)\n",
    "\n",
    "model = keras.Model(inp, out)\n",
    "\n",
    "model.summary()"
   ],
   "metadata": {
    "collapsed": false,
    "pycharm": {
     "name": "#%%\n"
    }
   }
  },
  {
   "cell_type": "code",
   "execution_count": 13,
   "outputs": [
    {
     "data": {
      "text/plain": "TensorShape([10000, 28, 196])"
     },
     "execution_count": 13,
     "metadata": {},
     "output_type": "execute_result"
    }
   ],
   "source": [
    "x_train.shape"
   ],
   "metadata": {
    "collapsed": false,
    "pycharm": {
     "name": "#%%\n"
    }
   }
  },
  {
   "cell_type": "code",
   "execution_count": 17,
   "metadata": {},
   "outputs": [
    {
     "name": "stdout",
     "output_type": "stream",
     "text": [
      "Epoch 1/30\n",
      "250/250 [==============================] - ETA: 0s - loss: 0.0461 - mse: 0.0461\n",
      "Epoch 00001: val_loss improved from -inf to 0.02602, saving model to best.h5\n",
      "250/250 [==============================] - 17s 69ms/step - loss: 0.0461 - mse: 0.0461 - val_loss: 0.0260 - val_mse: 0.0260\n",
      "Epoch 2/30\n",
      "250/250 [==============================] - ETA: 0s - loss: 0.0195 - mse: 0.0195\n",
      "Epoch 00002: val_loss did not improve from 0.02602\n",
      "250/250 [==============================] - 17s 69ms/step - loss: 0.0195 - mse: 0.0195 - val_loss: 0.0073 - val_mse: 0.0073\n",
      "Epoch 3/30\n",
      "250/250 [==============================] - ETA: 0s - loss: 0.0106 - mse: 0.0106\n",
      "Epoch 00003: val_loss did not improve from 0.02602\n",
      "250/250 [==============================] - 17s 69ms/step - loss: 0.0106 - mse: 0.0106 - val_loss: 0.0049 - val_mse: 0.0049\n",
      "Epoch 4/30\n",
      "250/250 [==============================] - ETA: 0s - loss: 0.0083 - mse: 0.0083\n",
      "Epoch 00004: val_loss did not improve from 0.02602\n",
      "250/250 [==============================] - 17s 68ms/step - loss: 0.0083 - mse: 0.0083 - val_loss: 0.0042 - val_mse: 0.0042\n",
      "Epoch 5/30\n",
      "250/250 [==============================] - ETA: 0s - loss: 0.0070 - mse: 0.0070\n",
      "Epoch 00005: val_loss did not improve from 0.02602\n",
      "250/250 [==============================] - 17s 69ms/step - loss: 0.0070 - mse: 0.0070 - val_loss: 0.0034 - val_mse: 0.0034\n",
      "Epoch 6/30\n",
      "250/250 [==============================] - ETA: 0s - loss: 0.0062 - mse: 0.0062\n",
      "Epoch 00006: val_loss did not improve from 0.02602\n",
      "250/250 [==============================] - 17s 70ms/step - loss: 0.0062 - mse: 0.0062 - val_loss: 0.0030 - val_mse: 0.0030\n",
      "Epoch 7/30\n",
      "250/250 [==============================] - ETA: 0s - loss: 0.0056 - mse: 0.0056\n",
      "Epoch 00007: val_loss did not improve from 0.02602\n",
      "250/250 [==============================] - 17s 70ms/step - loss: 0.0056 - mse: 0.0056 - val_loss: 0.0026 - val_mse: 0.0026\n",
      "Epoch 8/30\n",
      "250/250 [==============================] - ETA: 0s - loss: 0.0053 - mse: 0.0053\n",
      "Epoch 00008: val_loss did not improve from 0.02602\n",
      "250/250 [==============================] - 18s 71ms/step - loss: 0.0053 - mse: 0.0053 - val_loss: 0.0023 - val_mse: 0.0023\n",
      "Epoch 9/30\n",
      "250/250 [==============================] - ETA: 0s - loss: 0.0049 - mse: 0.0049\n",
      "Epoch 00009: val_loss did not improve from 0.02602\n",
      "250/250 [==============================] - 18s 72ms/step - loss: 0.0049 - mse: 0.0049 - val_loss: 0.0026 - val_mse: 0.0026\n",
      "Epoch 10/30\n",
      "250/250 [==============================] - ETA: 0s - loss: 0.0044 - mse: 0.0044\n",
      "Epoch 00010: val_loss did not improve from 0.02602\n",
      "250/250 [==============================] - 18s 71ms/step - loss: 0.0044 - mse: 0.0044 - val_loss: 0.0023 - val_mse: 0.0023\n",
      "Epoch 11/30\n",
      "250/250 [==============================] - ETA: 0s - loss: 0.0044 - mse: 0.0044\n",
      "Epoch 00011: val_loss did not improve from 0.02602\n",
      "250/250 [==============================] - 18s 72ms/step - loss: 0.0044 - mse: 0.0044 - val_loss: 0.0020 - val_mse: 0.0020\n",
      "Epoch 12/30\n",
      "250/250 [==============================] - ETA: 0s - loss: 0.0042 - mse: 0.0042\n",
      "Epoch 00012: val_loss did not improve from 0.02602\n",
      "250/250 [==============================] - 19s 76ms/step - loss: 0.0042 - mse: 0.0042 - val_loss: 0.0021 - val_mse: 0.0021\n",
      "Epoch 13/30\n",
      "250/250 [==============================] - ETA: 0s - loss: 0.0038 - mse: 0.0038\n",
      "Epoch 00013: val_loss did not improve from 0.02602\n",
      "250/250 [==============================] - 18s 70ms/step - loss: 0.0038 - mse: 0.0038 - val_loss: 0.0020 - val_mse: 0.0020\n",
      "Epoch 14/30\n",
      "250/250 [==============================] - ETA: 0s - loss: 0.0038 - mse: 0.0038\n",
      "Epoch 00014: val_loss did not improve from 0.02602\n",
      "250/250 [==============================] - 18s 71ms/step - loss: 0.0038 - mse: 0.0038 - val_loss: 0.0016 - val_mse: 0.0016\n",
      "Epoch 15/30\n",
      "250/250 [==============================] - ETA: 0s - loss: 0.0038 - mse: 0.0038\n",
      "Epoch 00015: val_loss did not improve from 0.02602\n",
      "250/250 [==============================] - 17s 69ms/step - loss: 0.0038 - mse: 0.0038 - val_loss: 0.0021 - val_mse: 0.0021\n",
      "Epoch 16/30\n",
      "250/250 [==============================] - ETA: 0s - loss: 0.0034 - mse: 0.0034\n",
      "Epoch 00016: val_loss did not improve from 0.02602\n",
      "250/250 [==============================] - 17s 69ms/step - loss: 0.0034 - mse: 0.0034 - val_loss: 0.0016 - val_mse: 0.0016\n",
      "Epoch 17/30\n",
      "250/250 [==============================] - ETA: 0s - loss: 0.0033 - mse: 0.0033\n",
      "Epoch 00017: val_loss did not improve from 0.02602\n",
      "250/250 [==============================] - 18s 71ms/step - loss: 0.0033 - mse: 0.0033 - val_loss: 0.0017 - val_mse: 0.0017\n",
      "Epoch 18/30\n",
      "250/250 [==============================] - ETA: 0s - loss: 0.0030 - mse: 0.0030\n",
      "Epoch 00018: val_loss did not improve from 0.02602\n",
      "250/250 [==============================] - 19s 74ms/step - loss: 0.0030 - mse: 0.0030 - val_loss: 0.0013 - val_mse: 0.0013\n",
      "Epoch 19/30\n",
      "250/250 [==============================] - ETA: 0s - loss: 0.0028 - mse: 0.0028\n",
      "Epoch 00019: val_loss did not improve from 0.02602\n",
      "250/250 [==============================] - 18s 72ms/step - loss: 0.0028 - mse: 0.0028 - val_loss: 0.0013 - val_mse: 0.0013\n",
      "Epoch 20/30\n",
      "250/250 [==============================] - ETA: 0s - loss: 0.0028 - mse: 0.0028\n",
      "Epoch 00020: val_loss did not improve from 0.02602\n",
      "250/250 [==============================] - 19s 74ms/step - loss: 0.0028 - mse: 0.0028 - val_loss: 0.0012 - val_mse: 0.0012\n",
      "Epoch 21/30\n",
      "250/250 [==============================] - ETA: 0s - loss: 0.0027 - mse: 0.0027\n",
      "Epoch 00021: val_loss did not improve from 0.02602\n",
      "250/250 [==============================] - 18s 74ms/step - loss: 0.0027 - mse: 0.0027 - val_loss: 0.0012 - val_mse: 0.0012\n",
      "Epoch 22/30\n",
      "250/250 [==============================] - ETA: 0s - loss: 0.0027 - mse: 0.0027\n",
      "Epoch 00022: val_loss did not improve from 0.02602\n",
      "250/250 [==============================] - 18s 70ms/step - loss: 0.0027 - mse: 0.0027 - val_loss: 0.0012 - val_mse: 0.0012\n",
      "Epoch 23/30\n",
      "250/250 [==============================] - ETA: 0s - loss: 0.0027 - mse: 0.0027\n",
      "Epoch 00023: val_loss did not improve from 0.02602\n",
      "250/250 [==============================] - 18s 71ms/step - loss: 0.0027 - mse: 0.0027 - val_loss: 0.0012 - val_mse: 0.0012\n",
      "Epoch 24/30\n",
      "250/250 [==============================] - ETA: 0s - loss: 0.0025 - mse: 0.0025\n",
      "Epoch 00024: val_loss did not improve from 0.02602\n",
      "250/250 [==============================] - 18s 71ms/step - loss: 0.0025 - mse: 0.0025 - val_loss: 0.0011 - val_mse: 0.0011\n",
      "Epoch 25/30\n",
      "250/250 [==============================] - ETA: 0s - loss: 0.0026 - mse: 0.0026\n",
      "Epoch 00025: val_loss did not improve from 0.02602\n",
      "250/250 [==============================] - 19s 77ms/step - loss: 0.0026 - mse: 0.0026 - val_loss: 0.0012 - val_mse: 0.0012\n",
      "Epoch 26/30\n",
      "250/250 [==============================] - ETA: 0s - loss: 0.0026 - mse: 0.0026\n",
      "Epoch 00026: val_loss did not improve from 0.02602\n",
      "250/250 [==============================] - 18s 73ms/step - loss: 0.0026 - mse: 0.0026 - val_loss: 0.0011 - val_mse: 0.0011\n",
      "Epoch 27/30\n",
      "250/250 [==============================] - ETA: 0s - loss: 0.0025 - mse: 0.0025\n",
      "Epoch 00027: val_loss did not improve from 0.02602\n",
      "250/250 [==============================] - 18s 74ms/step - loss: 0.0025 - mse: 0.0025 - val_loss: 0.0011 - val_mse: 0.0011\n",
      "Epoch 28/30\n",
      "250/250 [==============================] - ETA: 0s - loss: 0.0025 - mse: 0.0025\n",
      "Epoch 00028: val_loss did not improve from 0.02602\n",
      "250/250 [==============================] - 18s 70ms/step - loss: 0.0025 - mse: 0.0025 - val_loss: 0.0011 - val_mse: 0.0011\n",
      "Epoch 29/30\n",
      "250/250 [==============================] - ETA: 0s - loss: 0.0026 - mse: 0.0026\n",
      "Epoch 00029: val_loss did not improve from 0.02602\n",
      "250/250 [==============================] - 18s 71ms/step - loss: 0.0026 - mse: 0.0026 - val_loss: 0.0011 - val_mse: 0.0011\n",
      "Epoch 30/30\n",
      "250/250 [==============================] - ETA: 0s - loss: 0.0025 - mse: 0.0025\n",
      "Epoch 00030: val_loss did not improve from 0.02602\n",
      "250/250 [==============================] - 18s 71ms/step - loss: 0.0025 - mse: 0.0025 - val_loss: 0.0011 - val_mse: 0.0011\n"
     ]
    },
    {
     "data": {
      "text/plain": "<tensorflow.python.keras.callbacks.History at 0x1eb2b57e940>"
     },
     "execution_count": 17,
     "metadata": {},
     "output_type": "execute_result"
    }
   ],
   "source": [
    "batch_size = 32\n",
    "\n",
    "epochs = 30\n",
    "Check = keras.callbacks.ModelCheckpoint(\n",
    "    \"best.h5\", monitor=\"val_loss\", verbose=2, save_best_only=True,\n",
    "    save_weights_only=True, mode='max', save_freq='epoch',\n",
    ")\n",
    "\n",
    "Plateau = keras.callbacks.ReduceLROnPlateau(monitor='val_loss', factor=0.1, patience=3)\n",
    "\n",
    "\n",
    "model.compile(loss=\"mse\", optimizer=keras.optimizers.Adam(learning_rate=0.001), metrics=['mse'])\n",
    "\n",
    "model.fit(x_train, y_train, batch_size=batch_size, epochs=epochs, validation_split=0.2, callbacks=[Check, Plateau])"
   ]
  },
  {
   "cell_type": "code",
   "execution_count": null,
   "metadata": {},
   "outputs": [],
   "source": []
  },
  {
   "cell_type": "code",
   "execution_count": 18,
   "metadata": {
    "pycharm": {
     "name": "#%%\n"
    }
   },
   "outputs": [],
   "source": [
    "model.load_weights(\"best.h5\")\n",
    "\n",
    "y_hat = model.predict(x_test)\n",
    "rounded = tf.cast(tf.math.round(y_hat), tf.int32)\n",
    "np.savetxt(\"level_3_output/Level_3_1_Result.csv\", rounded, fmt='%i', delimiter=\"\\n\", )\n"
   ]
  }
 ],
 "metadata": {
  "interpreter": {
   "hash": "aee8b7b246df8f9039afb4144a1f6fd8d2ca17a180786b69acc140d282b71a49"
  },
  "kernelspec": {
   "display_name": "Python 3.9.6 64-bit",
   "language": "python",
   "name": "python3"
  },
  "language_info": {
   "codemirror_mode": {
    "name": "ipython",
    "version": 3
   },
   "file_extension": ".py",
   "mimetype": "text/x-python",
   "name": "python",
   "nbconvert_exporter": "python",
   "pygments_lexer": "ipython3",
   "version": "3.9.7"
  },
  "orig_nbformat": 4
 },
 "nbformat": 4,
 "nbformat_minor": 2
}